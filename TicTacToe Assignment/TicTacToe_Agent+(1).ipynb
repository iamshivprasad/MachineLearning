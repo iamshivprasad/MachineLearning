{
 "cells": [
  {
   "cell_type": "markdown",
   "metadata": {
    "colab_type": "text",
    "id": "rznSDgbvGggG"
   },
   "source": [
    "## Tic-Tac-Toe Agent\n",
    "​\n",
    "In this notebook, you will learn to build an RL agent (using Q-learning) that learns to play Numerical Tic-Tac-Toe with odd numbers. The environment is playing randomly with the agent, i.e. its strategy is to put an even number randomly in an empty cell. The following is the layout of the notebook:\n",
    "        - Defining epsilon-greedy strategy\n",
    "        - Tracking state-action pairs for convergence\n",
    "        - Define hyperparameters for the Q-learning algorithm\n",
    "        - Generating episode and applying Q-update equation\n",
    "        - Checking convergence in Q-values"
   ]
  },
  {
   "cell_type": "markdown",
   "metadata": {
    "colab_type": "text",
    "id": "8eDb8PxBGggH"
   },
   "source": [
    "#### Importing libraries\n",
    "Write the code to import Tic-Tac-Toe class from the environment file"
   ]
  },
  {
   "cell_type": "code",
   "execution_count": 1,
   "metadata": {
    "colab": {},
    "colab_type": "code",
    "id": "6SFNYceFGggJ"
   },
   "outputs": [],
   "source": [
    "# from <TC_Env> import <TicTacToe> - import your class from environment file\n",
    "from TCGame_Env1 import TicTacToe\n",
    "import collections\n",
    "import numpy as np\n",
    "import random\n",
    "import pickle\n",
    "import time\n",
    "from matplotlib import pyplot as plt"
   ]
  },
  {
   "cell_type": "code",
   "execution_count": 2,
   "metadata": {
    "scrolled": true
   },
   "outputs": [
    {
     "data": {
      "text/plain": [
       "36"
      ]
     },
     "execution_count": 2,
     "metadata": {},
     "output_type": "execute_result"
    }
   ],
   "source": [
    "env = TicTacToe()\n",
    "f, s = env.action_space([np.nan for _ in range(9)])\n",
    "res = [l for l in s]\n",
    "len(res)"
   ]
  },
  {
   "cell_type": "code",
   "execution_count": 3,
   "metadata": {
    "colab": {},
    "colab_type": "code",
    "id": "wYLQyopEG8nz"
   },
   "outputs": [],
   "source": [
    "# Function to convert state array into a string to store it as keys in the dictionary\n",
    "# states in Q-dictionary will be of form: x-4-5-3-8-x-x-x-x\n",
    "#   x | 4 | 5\n",
    "#   ----------\n",
    "#   3 | 8 | x\n",
    "#   ----------\n",
    "#   x | x | x\n",
    "\n",
    "def Q_state(state):\n",
    "\n",
    "    return ('-'.join(str(e) for e in state)).replace('nan','x')"
   ]
  },
  {
   "cell_type": "code",
   "execution_count": 4,
   "metadata": {
    "colab": {},
    "colab_type": "code",
    "id": "ZebMOoiVHBBr"
   },
   "outputs": [],
   "source": [
    "# Defining a function which will return valid (all possible actions) actions corresponding to a state\n",
    "# Important to avoid errors during deployment.\n",
    "\n",
    "def valid_actions(state):\n",
    "\n",
    "    valid_Actions = []\n",
    "    \n",
    "    valid_Actions = [i for i in env.action_space(state)[0]] ###### -------please call your environment as env\n",
    "\n",
    "    return valid_Actions"
   ]
  },
  {
   "cell_type": "code",
   "execution_count": 5,
   "metadata": {
    "colab": {},
    "colab_type": "code",
    "id": "IRciPUkYHDWf"
   },
   "outputs": [],
   "source": [
    "# Defining a function which will add new Q-values to the Q-dictionary. \n",
    "def add_to_dict(state):\n",
    "    state1 = Q_state(state)\n",
    "    \n",
    "    valid_act = valid_actions(state)\n",
    "#     print(state, valid_act)\n",
    "    if state1 not in Q_dict.keys():\n",
    "        for action in valid_act:\n",
    "            Q_dict[state1][action]=0"
   ]
  },
  {
   "cell_type": "markdown",
   "metadata": {
    "colab_type": "text",
    "id": "fNNi_EfHGggM"
   },
   "source": [
    "#### Epsilon-greedy strategy - Write your code here\n",
    "\n",
    "(you can build your epsilon-decay function similar to the one given at the end of the notebook)"
   ]
  },
  {
   "cell_type": "code",
   "execution_count": 6,
   "metadata": {
    "colab": {},
    "colab_type": "code",
    "id": "m0lMfqiJGggN"
   },
   "outputs": [],
   "source": [
    "# Defining epsilon-greedy policy. You can choose any function epsilon-decay strategy\n",
    "\n",
    "def epsilon_greedy(state, time):   \n",
    "    epsilon = min_epsilon + (max_epsilon - min_epsilon) * np.exp(decay_rate*time)\n",
    "    z = np.random.random()\n",
    "        \n",
    "    if z > epsilon:\n",
    "        action = max(Q_dict[state],key=Q_dict[state].get)   #Exploitation: this gets the action corresponding to max q-value of current state\n",
    "    else:\n",
    "        action = random.choice(list(Q_dict[state]))\n",
    "    \n",
    "    return action\n",
    "\n"
   ]
  },
  {
   "cell_type": "markdown",
   "metadata": {
    "colab_type": "text",
    "id": "H2kyQHOMGggR"
   },
   "source": [
    "#### Tracking the state-action pairs for checking convergence - write your code here"
   ]
  },
  {
   "cell_type": "code",
   "execution_count": 7,
   "metadata": {
    "colab": {},
    "colab_type": "code",
    "id": "qcxZ29vdGggS"
   },
   "outputs": [],
   "source": [
    "# Initialise Q_dictionary as 'Q_dict' and States_tracked as 'States_track' (for convergence)\n",
    "\n",
    "Q_dict = collections.defaultdict(dict)\n",
    "\n",
    "States_track = collections.defaultdict(dict)\n"
   ]
  },
  {
   "cell_type": "code",
   "execution_count": 8,
   "metadata": {
    "colab": {},
    "colab_type": "code",
    "id": "vs73iv8fHOxV"
   },
   "outputs": [],
   "source": [
    "# Initialise states to be tracked\n",
    "# x-7-x-1-8-4-3-x-6 x-7-5-1-8-4-3-x-6 (2, 5) 10\n",
    "# 8-3-x-2-7-5-6-4-1 8-3-9-2-7-5-6-4-1 (2, 9) 10\n",
    "# 1-6-2-4-7-9-8-5-x 1-6-2-4-7-9-8-5-3 (8, 3) 0\n",
    "# x-6-2-4-8-7-9-5-3 1-6-2-4-8-7-9-5-3 (0, 1) 0\n",
    "# 1-x-6-x-x-7-x-2-x 1-8-6-9-x-7-x-2-x (3, 9) -10\n",
    "# x-x-8-4-x-9-5-x-x 6-x-8-4-x-9-5-x-3 (8, 3) -10\n",
    "\n",
    "def initialise_tracking_states():\n",
    "    sample_q_values = [('x-7-x-1-8-4-3-x-6', (2, 5)),\n",
    "                       ('8-3-x-2-7-5-6-4-1', (2, 9)),\n",
    "                       ('x-6-2-4-8-7-9-5-3', (0, 1)),  \n",
    "                       ('x-x-8-4-x-9-5-x-x', (8, 3)),\n",
    "                       ('6-x-1-x-x-x-x-x-x', (5, 5)),\n",
    "                       ('3-x-x-4-x-5-x-8-x', (3, 3)),\n",
    "                       ('x-x-x-x-x-x-x-x-x', (0, 1)),\n",
    "                       ('7-x-x-x-x-x-x-8-x', (1, 1)),\n",
    "                       ('x-2-x-x-x-x-x-x-9', (0, 5))]    \n",
    "    for q_values in sample_q_values:\n",
    "        state = q_values[0]\n",
    "        action = q_values[1]\n",
    "        States_track[state][action] = []    #this is an array which will have appended values of that state-action pair for every 2000th episode         \n",
    "  "
   ]
  },
  {
   "cell_type": "code",
   "execution_count": 9,
   "metadata": {
    "colab": {},
    "colab_type": "code",
    "id": "dAbwJDMVHpwl"
   },
   "outputs": [],
   "source": [
    "#Defining a function to save the Q-dictionary as a pickle file\n",
    "\n",
    "def save_obj(obj, name ):\n",
    "#     print(name, name + '.pkl')\n",
    "    with open(name + '.pkl', 'wb') as f:\n",
    "        pickle.dump(obj, f, pickle.HIGHEST_PROTOCOL)"
   ]
  },
  {
   "cell_type": "code",
   "execution_count": 10,
   "metadata": {
    "colab": {},
    "colab_type": "code",
    "id": "6Pyj7nMVHsBi"
   },
   "outputs": [],
   "source": [
    "def save_tracking_states():\n",
    "    for state in States_track.keys():\n",
    "        for action in States_track[state].keys():\n",
    "            if state in Q_dict and action in Q_dict[state]:\n",
    "                States_track[state][action].append(Q_dict[state][action])"
   ]
  },
  {
   "cell_type": "code",
   "execution_count": null,
   "metadata": {},
   "outputs": [],
   "source": []
  },
  {
   "cell_type": "code",
   "execution_count": 11,
   "metadata": {
    "colab": {},
    "colab_type": "code",
    "id": "B_8xSluUHvew"
   },
   "outputs": [],
   "source": [
    "initialise_tracking_states()"
   ]
  },
  {
   "cell_type": "markdown",
   "metadata": {
    "colab_type": "text",
    "id": "-iPt--E9GggV"
   },
   "source": [
    "#### Define hyperparameters  ---write your code here"
   ]
  },
  {
   "cell_type": "code",
   "execution_count": 12,
   "metadata": {
    "colab": {},
    "colab_type": "code",
    "id": "G0_f5czFGggW"
   },
   "outputs": [],
   "source": [
    "#Defining parameters for the experiment\n",
    "\n",
    "#EPISODES = 20\n",
    "EPISODES = 5000000\n",
    "LR = 0.01 \n",
    "GAMMA = 0.91\n",
    "max_epsilon = 1.0\n",
    "min_epsilon = 0.001 \n",
    "decay_rate = -0.000001\n",
    "threshold = 100000\n",
    "policy_threshold = 100000"
   ]
  },
  {
   "cell_type": "markdown",
   "metadata": {
    "colab_type": "text",
    "id": "Md6twJ7wGggh"
   },
   "source": [
    "### Q-update loop ---write your code here"
   ]
  },
  {
   "cell_type": "code",
   "execution_count": 13,
   "metadata": {
    "colab": {},
    "colab_type": "code",
    "id": "ldCgQuDNGggj",
    "scrolled": false
   },
   "outputs": [
    {
     "name": "stdout",
     "output_type": "stream",
     "text": [
      "Elapsed time:  7539.459765195847\n"
     ]
    }
   ],
   "source": [
    "start_time = time.time()\n",
    "\n",
    "for episode in range(EPISODES):\n",
    "    env = TicTacToe()\n",
    "    \n",
    "    initial_state = env.state\n",
    "    curr_state = env.state\n",
    "    add_to_dict(curr_state)\n",
    "    \n",
    "    reward = None\n",
    "#     total_reward = 0\n",
    "    isTerminal = False\n",
    "    \n",
    "    while isTerminal == False:\n",
    "        formatted_curr_state = Q_state(curr_state)\n",
    "        curr_action = epsilon_greedy(formatted_curr_state, episode)\n",
    "        next_state, reward, isTerminal = env.step(curr_state, curr_action)\n",
    "        \n",
    "        formatted_next_state = Q_state(next_state)\n",
    "        add_to_dict(next_state)\n",
    "        \n",
    "        if isTerminal:            \n",
    "            Q_dict[formatted_curr_state][curr_action] += LR * ( reward - Q_dict[formatted_curr_state][curr_action] )\n",
    "#             print(formatted_curr_state, formatted_next_state, curr_action, reward)\n",
    "        else:\n",
    "            max_next = max(Q_dict[formatted_next_state],key=Q_dict[formatted_next_state].get)\n",
    "            Q_dict[formatted_curr_state][curr_action] += \\\n",
    "                LR * ((reward + (GAMMA*(Q_dict[formatted_next_state][max_next]))) - Q_dict[formatted_curr_state][curr_action] )            \n",
    "\n",
    "\n",
    "        curr_state = next_state\n",
    "    \n",
    "    #TRACKING Q-VALUES\n",
    "    if (episode == threshold-1):    \n",
    "        initialise_tracking_states()\n",
    "      \n",
    "    if ((episode+1) % threshold) == 0:\n",
    "        save_tracking_states()\n",
    "        save_obj(States_track,'States_tracked')   \n",
    "    \n",
    "#     SAVING POLICY\n",
    "    if ((episode+1)% policy_threshold ) == 0:\n",
    "        save_obj(Q_dict,'Policy')    \n",
    "    \n",
    "elapsed_time = time.time() - start_time\n",
    "save_obj(States_track,'States_tracked')   \n",
    "save_obj(Q_dict,'Policy')\n",
    "\n",
    "print(\"Elapsed time: \", elapsed_time)"
   ]
  },
  {
   "cell_type": "code",
   "execution_count": 14,
   "metadata": {},
   "outputs": [
    {
     "data": {
      "text/plain": [
       "2273831"
      ]
     },
     "execution_count": 14,
     "metadata": {},
     "output_type": "execute_result"
    }
   ],
   "source": [
    "len(Q_dict)    \n",
    "#x-7-x-1-8-4-3-x-6"
   ]
  },
  {
   "cell_type": "code",
   "execution_count": 23,
   "metadata": {},
   "outputs": [
    {
     "data": {
      "text/plain": [
       "defaultdict(dict,\n",
       "            {'x-7-x-1-8-4-3-x-6': {(2, 5): [0,\n",
       "               0,\n",
       "               0,\n",
       "               0,\n",
       "               0,\n",
       "               0,\n",
       "               0,\n",
       "               0,\n",
       "               0,\n",
       "               0,\n",
       "               0,\n",
       "               0,\n",
       "               0,\n",
       "               0,\n",
       "               0,\n",
       "               0,\n",
       "               0,\n",
       "               0,\n",
       "               0,\n",
       "               0,\n",
       "               0,\n",
       "               0,\n",
       "               0,\n",
       "               0,\n",
       "               0,\n",
       "               0,\n",
       "               0,\n",
       "               0,\n",
       "               0,\n",
       "               0,\n",
       "               0,\n",
       "               0,\n",
       "               0]},\n",
       "             '8-3-x-2-7-5-6-4-1': {(2, 9): [0.1,\n",
       "               0.29701,\n",
       "               0.29701,\n",
       "               0.29701,\n",
       "               0.29701,\n",
       "               0.29701,\n",
       "               0.29701,\n",
       "               0.29701,\n",
       "               0.29701,\n",
       "               0.29701,\n",
       "               0.29701,\n",
       "               0.29701,\n",
       "               0.29701,\n",
       "               0.29701,\n",
       "               0.29701,\n",
       "               0.29701,\n",
       "               0.29701,\n",
       "               0.29701,\n",
       "               0.29701,\n",
       "               0.29701,\n",
       "               0.29701,\n",
       "               0.29701,\n",
       "               0.29701,\n",
       "               0.29701,\n",
       "               0.29701,\n",
       "               0.29701,\n",
       "               0.29701,\n",
       "               0.29701,\n",
       "               0.29701,\n",
       "               0.29701,\n",
       "               0.29701,\n",
       "               0.29701,\n",
       "               0.29701,\n",
       "               0.29701,\n",
       "               0.29701,\n",
       "               0.29701,\n",
       "               0.29701,\n",
       "               0.29701,\n",
       "               0.29701,\n",
       "               0.29701,\n",
       "               0.29701,\n",
       "               0.29701,\n",
       "               0.29701,\n",
       "               0.29701,\n",
       "               0.29701,\n",
       "               0.29701,\n",
       "               0.29701,\n",
       "               0.29701]},\n",
       "             'x-6-2-4-8-7-9-5-3': {(0, 1): [0.0,\n",
       "               0.0,\n",
       "               0.0,\n",
       "               0.0,\n",
       "               0.0,\n",
       "               0.0,\n",
       "               0.0,\n",
       "               0.0,\n",
       "               0.0,\n",
       "               0.0,\n",
       "               0.0,\n",
       "               0.0,\n",
       "               0.0,\n",
       "               0.0,\n",
       "               0.0,\n",
       "               0.0,\n",
       "               0.0,\n",
       "               0.0,\n",
       "               0.0,\n",
       "               0.0,\n",
       "               0.0,\n",
       "               0.0,\n",
       "               0.0,\n",
       "               0.0,\n",
       "               0.0,\n",
       "               0.0,\n",
       "               0.0,\n",
       "               0.0,\n",
       "               0.0,\n",
       "               0.0,\n",
       "               0.0,\n",
       "               0.0,\n",
       "               0.0,\n",
       "               0.0,\n",
       "               0.0,\n",
       "               0.0,\n",
       "               0.0,\n",
       "               0.0,\n",
       "               0.0,\n",
       "               0.0,\n",
       "               0.0,\n",
       "               0.0,\n",
       "               0.0,\n",
       "               0.0,\n",
       "               0.0,\n",
       "               0.0,\n",
       "               0.0,\n",
       "               0.0,\n",
       "               0.0,\n",
       "               0.0]},\n",
       "             'x-x-8-4-x-9-5-x-x': {(8, 3): [0,\n",
       "               0,\n",
       "               0,\n",
       "               0,\n",
       "               0,\n",
       "               0,\n",
       "               0,\n",
       "               0,\n",
       "               0,\n",
       "               0,\n",
       "               0,\n",
       "               0,\n",
       "               0,\n",
       "               0,\n",
       "               0,\n",
       "               0,\n",
       "               0,\n",
       "               0,\n",
       "               0,\n",
       "               0,\n",
       "               0,\n",
       "               0,\n",
       "               0,\n",
       "               0,\n",
       "               0,\n",
       "               0,\n",
       "               0,\n",
       "               0,\n",
       "               0,\n",
       "               0,\n",
       "               0,\n",
       "               0,\n",
       "               0,\n",
       "               0,\n",
       "               0,\n",
       "               0,\n",
       "               0,\n",
       "               0,\n",
       "               0,\n",
       "               0,\n",
       "               0,\n",
       "               0,\n",
       "               0,\n",
       "               0,\n",
       "               0,\n",
       "               0,\n",
       "               0,\n",
       "               0,\n",
       "               0,\n",
       "               0]},\n",
       "             '6-x-1-x-x-x-x-x-x': {(5, 5): [-0.01,\n",
       "               -0.1390099501,\n",
       "               -0.1390099501,\n",
       "               -0.1720263934163591,\n",
       "               -0.18759306818737356,\n",
       "               -0.2117223664691404,\n",
       "               -0.2274090913764045,\n",
       "               -0.23513500046264046,\n",
       "               -0.3469522558138996,\n",
       "               -0.3525727332557606,\n",
       "               -0.3525727332557606,\n",
       "               -0.37808395080027796,\n",
       "               -0.4101942176955774,\n",
       "               -0.4391005696550086,\n",
       "               -0.46695639251536547,\n",
       "               -0.5005195888100461,\n",
       "               -0.5005195888100461,\n",
       "               -0.5075634253286002,\n",
       "               -0.5124877910753142,\n",
       "               -0.5124877910753142,\n",
       "               -0.512903007705461,\n",
       "               -0.5177739776284065,\n",
       "               -0.5177739776284065,\n",
       "               -0.5225962378521224,\n",
       "               -0.5225962378521224,\n",
       "               -0.5225962378521224,\n",
       "               -0.5273702754736012,\n",
       "               -0.5273702754736012,\n",
       "               -0.5273702754736012,\n",
       "               -0.5273702754736012,\n",
       "               -0.5273702754736012,\n",
       "               -0.5273702754736012,\n",
       "               -0.5306553741846173,\n",
       "               -0.5306553741846173,\n",
       "               -0.5306553741846173,\n",
       "               -0.5353488204427711,\n",
       "               -0.5353488204427711,\n",
       "               -0.5353488204427711,\n",
       "               -0.5353488204427711,\n",
       "               -0.5353488204427711,\n",
       "               -0.5353488204427711,\n",
       "               -0.5353488204427711,\n",
       "               -0.5353488204427711,\n",
       "               -0.5353488204427711,\n",
       "               -0.5372925412383434,\n",
       "               -0.5372925412383434,\n",
       "               -0.5372925412383434,\n",
       "               -0.5372925412383434,\n",
       "               -0.5372925412383434,\n",
       "               -0.5372925412383434]},\n",
       "             '3-x-x-4-x-5-x-8-x': {(3, 3): []},\n",
       "             'x-x-x-x-x-x-x-x-x': {(0, 1): [-1.0037748210142527,\n",
       "               -1.0243347439930939,\n",
       "               -1.0492030749781944,\n",
       "               -1.0752480460691267,\n",
       "               -1.101797033891701,\n",
       "               -1.1286431469971556,\n",
       "               -1.1545154237113258,\n",
       "               -1.1806283552522516,\n",
       "               -1.2069947327357882,\n",
       "               -1.2296374858541108,\n",
       "               -1.2536486081758254,\n",
       "               -1.274036091640148,\n",
       "               -1.2962636794394566,\n",
       "               -1.3159763229833488,\n",
       "               -1.3351118821937753,\n",
       "               -1.351007433010072,\n",
       "               -1.357115663759928,\n",
       "               -1.3613754062390582,\n",
       "               -1.359972824335372,\n",
       "               -1.3607538649966662,\n",
       "               -1.3610768539483962,\n",
       "               -1.3694429805471275,\n",
       "               -1.3624723454630425,\n",
       "               -1.3630816785295525,\n",
       "               -1.3648672539495021,\n",
       "               -1.37156031268921,\n",
       "               -1.3639727562475121,\n",
       "               -1.3678916889064474,\n",
       "               -1.3775540400005708,\n",
       "               -1.3784628367131921,\n",
       "               -1.3716172654350869,\n",
       "               -1.3770620539534844,\n",
       "               -1.3752991687223348,\n",
       "               -1.3766746458977293,\n",
       "               -1.378526988423941,\n",
       "               -1.367163453350338,\n",
       "               -1.3621908524304334,\n",
       "               -1.3577384537785515,\n",
       "               -1.3554407556782222,\n",
       "               -1.360481791227288,\n",
       "               -1.3633792935146907,\n",
       "               -1.35854484372516,\n",
       "               -1.352261938591273,\n",
       "               -1.352439952890368,\n",
       "               -1.3576540552604823,\n",
       "               -1.3485725098939345,\n",
       "               -1.3430852914098246,\n",
       "               -1.3448093537791728,\n",
       "               -1.3415282701557614,\n",
       "               -1.344678930169952]},\n",
       "             '7-x-x-x-x-x-x-8-x': {(1, 1): [-0.11791000000000001,\n",
       "               -0.135463591,\n",
       "               -0.1526678655391,\n",
       "               -0.25862977501487194,\n",
       "               -0.2660434772647232,\n",
       "               -0.28064921206715526,\n",
       "               -0.29496429274701885,\n",
       "               -0.29496429274701885,\n",
       "               -0.3089945033213532,\n",
       "               -0.3159045582881397,\n",
       "               -0.3227455127052583,\n",
       "               -0.3227455127052583,\n",
       "               -0.3362228770024237,\n",
       "               -0.3362228770024237,\n",
       "               -0.3428606482323995,\n",
       "               -0.36060348102924894,\n",
       "               -0.36060348102924894,\n",
       "               -0.36429465521895643,\n",
       "               -0.36429465521895643,\n",
       "               -0.36429465521895643,\n",
       "               -0.3706517086667669,\n",
       "               -0.3706517086667669,\n",
       "               -0.3706517086667669,\n",
       "               -0.3769451915800992,\n",
       "               -0.3769451915800992,\n",
       "               -0.3769451915800992,\n",
       "               -0.3769451915800992,\n",
       "               -0.3769451915800992,\n",
       "               -0.3769451915800992,\n",
       "               -0.3769451915800992,\n",
       "               -0.3769451915800992,\n",
       "               -0.3769451915800992,\n",
       "               -0.3769451915800992,\n",
       "               -0.3769451915800992,\n",
       "               -0.3769451915800992,\n",
       "               -0.3769451915800992,\n",
       "               -0.3769451915800992,\n",
       "               -0.3769451915800992,\n",
       "               -0.3769451915800992,\n",
       "               -0.3831757396642982,\n",
       "               -0.3831757396642982,\n",
       "               -0.3831757396642982,\n",
       "               -0.3831757396642982,\n",
       "               -0.3831757396642982,\n",
       "               -0.3831757396642982,\n",
       "               -0.3831757396642982,\n",
       "               -0.3831757396642982,\n",
       "               -0.3831757396642982,\n",
       "               -0.3831757396642982,\n",
       "               -0.3831757396642982]},\n",
       "             'x-2-x-x-x-x-x-x-9': {(0, 5): [-0.0199,\n",
       "               -0.057636878509000004,\n",
       "               -0.0856260055804042,\n",
       "               -0.21600117931964624,\n",
       "               -0.3138411675264498,\n",
       "               -0.3138411675264498,\n",
       "               -0.3342207710097467,\n",
       "               -0.3408785632996492,\n",
       "               -0.3408785632996492,\n",
       "               -0.3474697776666527,\n",
       "               -0.3474697776666527,\n",
       "               -0.3539950798899862,\n",
       "               -0.3668505778001755,\n",
       "               -0.3668505778001755,\n",
       "               -0.37318207202217374,\n",
       "               -0.37318207202217374,\n",
       "               -0.37318207202217374,\n",
       "               -0.37318207202217374,\n",
       "               -0.37318207202217374,\n",
       "               -0.37318207202217374,\n",
       "               -0.379450251301952,\n",
       "               -0.379450251301952,\n",
       "               -0.379450251301952,\n",
       "               -0.379450251301952,\n",
       "               -0.379450251301952,\n",
       "               -0.379450251301952,\n",
       "               -0.379450251301952,\n",
       "               -0.379450251301952,\n",
       "               -0.379450251301952,\n",
       "               -0.379450251301952,\n",
       "               -0.379450251301952,\n",
       "               -0.38565574878893244,\n",
       "               -0.38565574878893244,\n",
       "               -0.38565574878893244,\n",
       "               -0.38565574878893244,\n",
       "               -0.38565574878893244,\n",
       "               -0.38565574878893244,\n",
       "               -0.38565574878893244,\n",
       "               -0.38565574878893244,\n",
       "               -0.38565574878893244,\n",
       "               -0.38565574878893244,\n",
       "               -0.38565574878893244,\n",
       "               -0.38565574878893244,\n",
       "               -0.38565574878893244,\n",
       "               -0.38565574878893244,\n",
       "               -0.38565574878893244,\n",
       "               -0.38565574878893244,\n",
       "               -0.38565574878893244,\n",
       "               -0.38565574878893244,\n",
       "               -0.38565574878893244]}})"
      ]
     },
     "execution_count": 23,
     "metadata": {},
     "output_type": "execute_result"
    }
   ],
   "source": [
    "States_track"
   ]
  },
  {
   "cell_type": "markdown",
   "metadata": {
    "colab_type": "text",
    "id": "t6eMFbb8Ggg2"
   },
   "source": [
    "#### Check the Q-dictionary"
   ]
  },
  {
   "cell_type": "code",
   "execution_count": 16,
   "metadata": {
    "colab": {},
    "colab_type": "code",
    "id": "fr9d2fcVGgg4"
   },
   "outputs": [],
   "source": [
    "# Q_dict"
   ]
  },
  {
   "cell_type": "code",
   "execution_count": 17,
   "metadata": {},
   "outputs": [],
   "source": [
    "Q_dict.values()"
   ]
  },
  {
   "cell_type": "code",
   "execution_count": null,
   "metadata": {},
   "outputs": [],
   "source": []
  },
  {
   "cell_type": "code",
   "execution_count": 18,
   "metadata": {
    "colab": {},
    "colab_type": "code",
    "id": "F1tnDJWkGgg9"
   },
   "outputs": [],
   "source": [
    "# len(Q_dict)"
   ]
  },
  {
   "cell_type": "code",
   "execution_count": 19,
   "metadata": {
    "colab": {},
    "colab_type": "code",
    "id": "cFgUqfcQGghB"
   },
   "outputs": [],
   "source": [
    "# try checking for one of the states - that which action your agent thinks is the best  -----This will not be evaluated\n",
    "# Q_dict['x-9-2-8-4-3-7-1-6']\n"
   ]
  },
  {
   "cell_type": "markdown",
   "metadata": {
    "colab_type": "text",
    "id": "KGPZEQDFGghG"
   },
   "source": [
    "#### Check the states tracked for Q-values convergence\n",
    "(non-evaluative)"
   ]
  },
  {
   "cell_type": "code",
   "execution_count": 24,
   "metadata": {
    "colab": {},
    "colab_type": "code",
    "id": "9s1Tvz8HGghH"
   },
   "outputs": [
    {
     "data": {
      "text/plain": [
       "<function matplotlib.pyplot.show(*args, **kw)>"
      ]
     },
     "execution_count": 24,
     "metadata": {},
     "output_type": "execute_result"
    },
    {
     "data": {
      "image/png": "[encoded data removed]",
      "text/plain": [
       "<Figure size 1152x504 with 1 Axes>"
      ]
     },
     "metadata": {
      "needs_background": "light"
     },
     "output_type": "display_data"
    }
   ],
   "source": [
    "#     sample_q_values = [('x-4-5-3-8-x-x-x-x', (5, 4)),\n",
    "#                        ('x-4-5-3-8-x-x-x-x', (0, 6)),\n",
    "#                        ('x-x-5-2-8-x-x-3-9', (5, 5)),    # agent wins\n",
    "#                        ('x-x-5-2-8-x-x-3-9', (6, 1))] \n",
    "    \n",
    "# plt.figure(0, figsize=(16,7))\n",
    "\n",
    "# x_axis = np.asarray(range(0, len(States_track['x-4-5-3-8-x-x-x-x'][(5, 4)])))\n",
    "# plt.subplot(221)\n",
    "# plt.plot(x_axis,np.asarray(States_track['x-4-5-3-8-x-x-x-x'][(5, 4)]))\n",
    "# plt.show\n",
    "\n",
    "# x_axis = np.asarray(range(0, len(States_track['x-4-5-3-8-x-x-x-x'][(0, 6)])))\n",
    "# plt.subplot(222)\n",
    "# plt.plot(x_axis,np.asarray(States_track['x-4-5-3-8-x-x-x-x'][(0, 6)]))\n",
    "# plt.show\n",
    "\n",
    "# x_axis = np.asarray(range(0, len(States_track['x-x-5-2-8-x-x-3-9'][(5, 5)])))\n",
    "# plt.subplot(223)\n",
    "# plt.plot(x_axis,np.asarray(States_track['x-x-5-2-8-x-x-3-9'][(5, 5)]))\n",
    "# plt.show\n",
    "\n",
    "# x_axis = np.asarray(range(0, len(States_track['x-x-5-2-8-x-x-3-9'][(6, 1)])))\n",
    "# plt.subplot(224)\n",
    "# plt.plot(x_axis,np.asarray(States_track['x-x-5-2-8-x-x-3-9'][(6, 1)]))\n",
    "# plt.show\n",
    "\n",
    "\n",
    "    \n",
    "plt.figure(0, figsize=(16,7))\n",
    "\n",
    "x_axis = np.asarray(range(0, len(States_track['6-x-1-x-x-x-x-x-x'][(5, 5)])))\n",
    "plt.subplot(221)\n",
    "plt.plot(x_axis,np.asarray(States_track['6-x-1-x-x-x-x-x-x'][(5, 5)]))\n",
    "plt.show\n",
    "\n",
    "# x_axis = np.asarray(range(0, len(States_track['6-x-1-x-x-x-x-x-x'][(5, 5)])))\n",
    "# plt.subplot(222)\n",
    "# plt.plot(x_axis,np.asarray(States_track['6-x-1-x-x-x-x-x-x'][(5, 5)]))\n",
    "# plt.show\n",
    "\n",
    "# x_axis = np.asarray(range(0, len(States_track['x-x-x-x-x-x-x-x-x'][(5, 5)])))\n",
    "# plt.subplot(223)\n",
    "# plt.plot(x_axis,np.asarray(States_track['x-x-x-x-x-x-x-x-x'][(5, 5)]))\n",
    "# plt.show\n",
    "\n",
    "# x_axis = np.asarray(range(0, len(States_track['x-x-x-x-x-x-x-x-x'][(6, 1)])))\n",
    "# plt.subplot(224)\n",
    "# plt.plot(x_axis,np.asarray(States_track['x-x-x-x-x-x-x-x-x'][(6, 1)]))\n",
    "# plt.show"
   ]
  },
  {
   "cell_type": "code",
   "execution_count": null,
   "metadata": {
    "colab": {},
    "colab_type": "code",
    "id": "pVQInsg7GghL"
   },
   "outputs": [],
   "source": []
  },
  {
   "cell_type": "markdown",
   "metadata": {
    "colab_type": "text",
    "id": "b2Opp8_NITkC"
   },
   "source": [
    "### Epsilon - decay check"
   ]
  },
  {
   "cell_type": "code",
   "execution_count": null,
   "metadata": {
    "colab": {},
    "colab_type": "code",
    "id": "gQ_D_JsuGghR"
   },
   "outputs": [],
   "source": [
    "max_epsilon = 1.0\n",
    "min_epsilon = 0.001\n",
    "time = np.arange(0,5000000)\n",
    "epsilon = []\n",
    "for i in range(0,5000000):\n",
    "    epsilon.append(min_epsilon + (max_epsilon - min_epsilon) * np.exp(-0.000001*i))"
   ]
  },
  {
   "cell_type": "code",
   "execution_count": null,
   "metadata": {
    "colab": {
     "base_uri": "https://localhost:8080/",
     "height": 347
    },
    "colab_type": "code",
    "id": "J7c2xADQGghV",
    "outputId": "cb60fce3-570b-45fb-bd83-abde3d13b273"
   },
   "outputs": [],
   "source": [
    "plt.plot(time, epsilon)\n",
    "plt.show()"
   ]
  },
  {
   "cell_type": "code",
   "execution_count": null,
   "metadata": {
    "colab": {},
    "colab_type": "code",
    "id": "59BRf43IJiQ1"
   },
   "outputs": [],
   "source": []
  }
 ],
 "metadata": {
  "colab": {
   "collapsed_sections": [],
   "name": "TicTacToe_Agent.ipynb",
   "provenance": [],
   "version": "0.3.2"
  },
  "kernelspec": {
   "display_name": "Python 3",
   "language": "python",
   "name": "python3"
  },
  "language_info": {
   "codemirror_mode": {
    "name": "ipython",
    "version": 3
   },
   "file_extension": ".py",
   "mimetype": "text/x-python",
   "name": "python",
   "nbconvert_exporter": "python",
   "pygments_lexer": "ipython3",
   "version": "3.7.4"
  }
 },
 "nbformat": 4,
 "nbformat_minor": 1
}
