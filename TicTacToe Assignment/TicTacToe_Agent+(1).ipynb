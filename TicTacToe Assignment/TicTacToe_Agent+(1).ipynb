{
 "cells": [
  {
   "cell_type": "markdown",
   "metadata": {
    "colab_type": "text",
    "id": "rznSDgbvGggG"
   },
   "source": [
    "## Tic-Tac-Toe Agent\n",
    "​\n",
    "In this notebook, you will learn to build an RL agent (using Q-learning) that learns to play Numerical Tic-Tac-Toe with odd numbers. The environment is playing randomly with the agent, i.e. its strategy is to put an even number randomly in an empty cell. The following is the layout of the notebook:\n",
    "        - Defining epsilon-greedy strategy\n",
    "        - Tracking state-action pairs for convergence\n",
    "        - Define hyperparameters for the Q-learning algorithm\n",
    "        - Generating episode and applying Q-update equation\n",
    "        - Checking convergence in Q-values"
   ]
  },
  {
   "cell_type": "markdown",
   "metadata": {
    "colab_type": "text",
    "id": "8eDb8PxBGggH"
   },
   "source": [
    "#### Importing libraries\n",
    "Write the code to import Tic-Tac-Toe class from the environment file"
   ]
  },
  {
   "cell_type": "code",
   "execution_count": 1,
   "metadata": {
    "colab": {},
    "colab_type": "code",
    "id": "6SFNYceFGggJ"
   },
   "outputs": [],
   "source": [
    "# from <TC_Env> import <TicTacToe> - import your class from environment file\n",
    "from TCGame_Env1 import TicTacToe\n",
    "import collections\n",
    "import numpy as np\n",
    "import random\n",
    "import pickle\n",
    "import time\n",
    "from matplotlib import pyplot as plt"
   ]
  },
  {
   "cell_type": "code",
   "execution_count": 2,
   "metadata": {
    "scrolled": true
   },
   "outputs": [
    {
     "data": {
      "text/plain": [
       "36"
      ]
     },
     "execution_count": 2,
     "metadata": {},
     "output_type": "execute_result"
    }
   ],
   "source": [
    "env = TicTacToe()\n",
    "f, s = env.action_space([np.nan for _ in range(9)])\n",
    "res = [l for l in s]\n",
    "len(res)"
   ]
  },
  {
   "cell_type": "code",
   "execution_count": 3,
   "metadata": {
    "colab": {},
    "colab_type": "code",
    "id": "wYLQyopEG8nz"
   },
   "outputs": [],
   "source": [
    "# Function to convert state array into a string to store it as keys in the dictionary\n",
    "# states in Q-dictionary will be of form: x-4-5-3-8-x-x-x-x\n",
    "#   x | 4 | 5\n",
    "#   ----------\n",
    "#   3 | 8 | x\n",
    "#   ----------\n",
    "#   x | x | x\n",
    "\n",
    "def Q_state(state):\n",
    "\n",
    "    return ('-'.join(str(e) for e in state)).replace('nan','x')"
   ]
  },
  {
   "cell_type": "code",
   "execution_count": 4,
   "metadata": {
    "colab": {},
    "colab_type": "code",
    "id": "ZebMOoiVHBBr"
   },
   "outputs": [],
   "source": [
    "# Defining a function which will return valid (all possible actions) actions corresponding to a state\n",
    "# Important to avoid errors during deployment.\n",
    "\n",
    "def valid_actions(state):\n",
    "\n",
    "    valid_Actions = []\n",
    "    \n",
    "    valid_Actions = [i for i in env.action_space(state)[0]] ###### -------please call your environment as env\n",
    "\n",
    "    return valid_Actions"
   ]
  },
  {
   "cell_type": "code",
   "execution_count": 5,
   "metadata": {
    "colab": {},
    "colab_type": "code",
    "id": "IRciPUkYHDWf"
   },
   "outputs": [],
   "source": [
    "# Defining a function which will add new Q-values to the Q-dictionary. \n",
    "def add_to_dict(state):\n",
    "    state1 = Q_state(state)\n",
    "    \n",
    "    valid_act = valid_actions(state)\n",
    "#     print(state, valid_act)\n",
    "    if state1 not in Q_dict.keys():\n",
    "        for action in valid_act:\n",
    "            Q_dict[state1][action]=0"
   ]
  },
  {
   "cell_type": "markdown",
   "metadata": {
    "colab_type": "text",
    "id": "fNNi_EfHGggM"
   },
   "source": [
    "#### Epsilon-greedy strategy - Write your code here\n",
    "\n",
    "(you can build your epsilon-decay function similar to the one given at the end of the notebook)"
   ]
  },
  {
   "cell_type": "code",
   "execution_count": 6,
   "metadata": {},
   "outputs": [],
   "source": [
    "def get_epsilon(time):\n",
    "    return min_epsilon + (max_epsilon - min_epsilon) * np.exp(decay_rate*time)"
   ]
  },
  {
   "cell_type": "code",
   "execution_count": 7,
   "metadata": {
    "colab": {},
    "colab_type": "code",
    "id": "m0lMfqiJGggN"
   },
   "outputs": [],
   "source": [
    "# Defining epsilon-greedy policy. You can choose any function epsilon-decay strategy\n",
    "\n",
    "def epsilon_greedy(state, time):   \n",
    "    epsilon = get_epsilon(time)\n",
    "    z = np.random.random()\n",
    "        \n",
    "    if z > epsilon:\n",
    "        action = max(Q_dict[state],key=Q_dict[state].get)   #Exploitation: this gets the action corresponding to max q-value of current state\n",
    "    else:\n",
    "        action = random.choice(list(Q_dict[state]))\n",
    "    \n",
    "    return action\n",
    "\n"
   ]
  },
  {
   "cell_type": "markdown",
   "metadata": {
    "colab_type": "text",
    "id": "H2kyQHOMGggR"
   },
   "source": [
    "#### Tracking the state-action pairs for checking convergence - write your code here"
   ]
  },
  {
   "cell_type": "code",
   "execution_count": 8,
   "metadata": {
    "colab": {},
    "colab_type": "code",
    "id": "qcxZ29vdGggS"
   },
   "outputs": [],
   "source": [
    "# Initialise Q_dictionary as 'Q_dict' and States_tracked as 'States_track' (for convergence)\n",
    "\n",
    "Q_dict = collections.defaultdict(dict)\n",
    "\n",
    "States_track = collections.defaultdict(dict)\n"
   ]
  },
  {
   "cell_type": "code",
   "execution_count": 9,
   "metadata": {
    "colab": {},
    "colab_type": "code",
    "id": "vs73iv8fHOxV"
   },
   "outputs": [],
   "source": [
    "# Initialise states to be tracked\n",
    "\n",
    "def initialise_tracking_states():\n",
    "    sample_q_values = [('x-7-x-1-8-4-3-x-6', (2, 5)),\n",
    "                       ('8-3-x-2-7-5-6-4-1', (2, 9)),\n",
    "                       ('x-6-2-4-8-7-9-5-3', (0, 1)),  \n",
    "                       ('x-x-8-4-x-9-5-x-x', (8, 3)),\n",
    "                       ('6-x-1-x-x-x-x-x-x', (5, 5)),\n",
    "                       ('3-x-x-4-x-5-x-8-x', (3, 3)),\n",
    "                       ('x-x-x-x-x-x-x-x-x', (0, 1)),\n",
    "                       ('7-x-x-x-x-x-x-8-x', (1, 1)),\n",
    "                       ('x-2-x-x-x-x-x-x-9', (0, 5))]    \n",
    "    for q_values in sample_q_values:\n",
    "        state = q_values[0]\n",
    "        action = q_values[1]\n",
    "        States_track[state][action] = []    #this is an array which will have appended values of that state-action pair for every 2000th episode         \n",
    "  "
   ]
  },
  {
   "cell_type": "code",
   "execution_count": 10,
   "metadata": {
    "colab": {},
    "colab_type": "code",
    "id": "dAbwJDMVHpwl"
   },
   "outputs": [],
   "source": [
    "#Defining a function to save the Q-dictionary as a pickle file\n",
    "\n",
    "def save_obj(obj, name ):\n",
    "#     print(name, name + '.pkl')\n",
    "    with open(name + '.pkl', 'wb') as f:\n",
    "        pickle.dump(obj, f, pickle.HIGHEST_PROTOCOL)"
   ]
  },
  {
   "cell_type": "code",
   "execution_count": 11,
   "metadata": {
    "colab": {},
    "colab_type": "code",
    "id": "6Pyj7nMVHsBi"
   },
   "outputs": [],
   "source": [
    "def save_tracking_states():\n",
    "    for state in States_track.keys():\n",
    "        for action in States_track[state].keys():\n",
    "            if state in Q_dict and action in Q_dict[state]:\n",
    "                States_track[state][action].append(Q_dict[state][action])"
   ]
  },
  {
   "cell_type": "code",
   "execution_count": null,
   "metadata": {},
   "outputs": [],
   "source": []
  },
  {
   "cell_type": "code",
   "execution_count": 12,
   "metadata": {
    "colab": {},
    "colab_type": "code",
    "id": "B_8xSluUHvew"
   },
   "outputs": [],
   "source": [
    "initialise_tracking_states()"
   ]
  },
  {
   "cell_type": "markdown",
   "metadata": {
    "colab_type": "text",
    "id": "-iPt--E9GggV"
   },
   "source": [
    "#### Define hyperparameters  ---write your code here"
   ]
  },
  {
   "cell_type": "code",
   "execution_count": 13,
   "metadata": {
    "colab": {},
    "colab_type": "code",
    "id": "G0_f5czFGggW"
   },
   "outputs": [],
   "source": [
    "#Defining parameters for the experiment\n",
    "\n",
    "#EPISODES = 20\n",
    "EPISODES = 5000000\n",
    "LR = 0.01 \n",
    "GAMMA = 0.91\n",
    "max_epsilon = 1.0\n",
    "min_epsilon = 0.001 \n",
    "decay_rate = -0.000001\n",
    "threshold = 100000\n",
    "policy_threshold = 100000"
   ]
  },
  {
   "cell_type": "markdown",
   "metadata": {
    "colab_type": "text",
    "id": "Md6twJ7wGggh"
   },
   "source": [
    "### Q-update loop ---write your code here"
   ]
  },
  {
   "cell_type": "code",
   "execution_count": 14,
   "metadata": {
    "colab": {},
    "colab_type": "code",
    "id": "ldCgQuDNGggj",
    "scrolled": false
   },
   "outputs": [
    {
     "name": "stdout",
     "output_type": "stream",
     "text": [
      "Elapsed time:  4925.354967594147\n"
     ]
    }
   ],
   "source": [
    "start_time = time.time()\n",
    "\n",
    "for episode in range(EPISODES):\n",
    "    env = TicTacToe()\n",
    "    \n",
    "    initial_state = env.state\n",
    "    curr_state = env.state\n",
    "    add_to_dict(curr_state)\n",
    "    \n",
    "    reward = None\n",
    "    isTerminal = False\n",
    "    \n",
    "    while isTerminal == False:\n",
    "        formatted_curr_state = Q_state(curr_state)\n",
    "        curr_action = epsilon_greedy(formatted_curr_state, episode)\n",
    "        next_state, reward, isTerminal = env.step(curr_state, curr_action)\n",
    "        \n",
    "        formatted_next_state = Q_state(next_state)\n",
    "        add_to_dict(next_state)\n",
    "        \n",
    "        if isTerminal:            \n",
    "            Q_dict[formatted_curr_state][curr_action] += LR * ( reward - Q_dict[formatted_curr_state][curr_action] )\n",
    "#             print(formatted_curr_state, formatted_next_state, curr_action, reward)\n",
    "        else:\n",
    "            max_next = max(Q_dict[formatted_next_state],key=Q_dict[formatted_next_state].get)\n",
    "            Q_dict[formatted_curr_state][curr_action] += \\\n",
    "                LR * ((reward + (GAMMA*(Q_dict[formatted_next_state][max_next]))) - Q_dict[formatted_curr_state][curr_action] )            \n",
    "\n",
    "\n",
    "        curr_state = next_state\n",
    "    \n",
    "    #TRACKING Q-VALUES\n",
    "    if (episode == threshold-1):    \n",
    "        initialise_tracking_states()\n",
    "      \n",
    "    if ((episode+1) % threshold) == 0:\n",
    "        save_tracking_states()\n",
    "        save_obj(States_track,'States_tracked')   \n",
    "    \n",
    "#     SAVING POLICY\n",
    "    if ((episode+1)% policy_threshold ) == 0:\n",
    "        save_obj(Q_dict,'Policy')    \n",
    "    \n",
    "elapsed_time = time.time() - start_time\n",
    "save_obj(States_track,'States_tracked')   \n",
    "save_obj(Q_dict,'Policy')\n",
    "\n",
    "print(\"Elapsed time: \", elapsed_time)"
   ]
  },
  {
   "cell_type": "code",
   "execution_count": 15,
   "metadata": {},
   "outputs": [
    {
     "data": {
      "text/plain": [
       "2261347"
      ]
     },
     "execution_count": 15,
     "metadata": {},
     "output_type": "execute_result"
    }
   ],
   "source": [
    "len(Q_dict)    "
   ]
  },
  {
   "cell_type": "code",
   "execution_count": 16,
   "metadata": {},
   "outputs": [
    {
     "data": {
      "text/plain": [
       "defaultdict(dict,\n",
       "            {'x-7-x-1-8-4-3-x-6': {(2, 5): [0,\n",
       "               0,\n",
       "               0,\n",
       "               0,\n",
       "               0,\n",
       "               0,\n",
       "               0,\n",
       "               0,\n",
       "               0,\n",
       "               0,\n",
       "               0,\n",
       "               0,\n",
       "               0,\n",
       "               0,\n",
       "               0,\n",
       "               0,\n",
       "               0,\n",
       "               0,\n",
       "               0,\n",
       "               0,\n",
       "               0,\n",
       "               0,\n",
       "               0,\n",
       "               0,\n",
       "               0,\n",
       "               0,\n",
       "               0,\n",
       "               0,\n",
       "               0,\n",
       "               0,\n",
       "               0,\n",
       "               0,\n",
       "               0,\n",
       "               0,\n",
       "               0]},\n",
       "             '8-3-x-2-7-5-6-4-1': {(2, 9): []},\n",
       "             'x-6-2-4-8-7-9-5-3': {(0, 1): []},\n",
       "             'x-x-8-4-x-9-5-x-x': {(8, 3): [0,\n",
       "               0,\n",
       "               0,\n",
       "               0,\n",
       "               0,\n",
       "               0,\n",
       "               0,\n",
       "               0,\n",
       "               0,\n",
       "               0,\n",
       "               0,\n",
       "               0,\n",
       "               0,\n",
       "               0,\n",
       "               0,\n",
       "               0,\n",
       "               0,\n",
       "               0,\n",
       "               0,\n",
       "               0,\n",
       "               0,\n",
       "               0,\n",
       "               0,\n",
       "               0,\n",
       "               0,\n",
       "               0,\n",
       "               0,\n",
       "               0,\n",
       "               0,\n",
       "               0,\n",
       "               0,\n",
       "               0,\n",
       "               0,\n",
       "               0,\n",
       "               0,\n",
       "               0,\n",
       "               0,\n",
       "               0,\n",
       "               0,\n",
       "               0,\n",
       "               0,\n",
       "               0,\n",
       "               0,\n",
       "               0,\n",
       "               0,\n",
       "               0,\n",
       "               0,\n",
       "               0,\n",
       "               0]},\n",
       "             '6-x-1-x-x-x-x-x-x': {(5, 5): [-0.01,\n",
       "               -0.029701,\n",
       "               -0.058519850599,\n",
       "               -0.0864827525163591,\n",
       "               -0.11361512828387071,\n",
       "               -0.2203541872310217,\n",
       "               -0.2349682389051244,\n",
       "               -0.24261855651607314,\n",
       "               -0.24261855651607314,\n",
       "               -0.2706696163412993,\n",
       "               -0.29765102902658286,\n",
       "               -0.33207311704677633,\n",
       "               -0.35191121339737,\n",
       "               -0.3774484974637722,\n",
       "               -0.40869505099338654,\n",
       "               -0.42448253619383197,\n",
       "               -0.441575980386339,\n",
       "               -0.5371602205824756,\n",
       "               -0.5371602205824756,\n",
       "               -0.5371602205824756,\n",
       "               -0.5371602205824756,\n",
       "               -0.5371602205824756,\n",
       "               -0.5371602205824756,\n",
       "               -0.5371602205824756,\n",
       "               -0.5371602205824756,\n",
       "               -0.5371602205824756,\n",
       "               -0.5371602205824756,\n",
       "               -0.5371602205824756,\n",
       "               -0.5371602205824756,\n",
       "               -0.5371602205824756,\n",
       "               -0.5371602205824756,\n",
       "               -0.5371602205824756,\n",
       "               -0.5371602205824756,\n",
       "               -0.5371602205824756,\n",
       "               -0.5371602205824756,\n",
       "               -0.5371602205824756,\n",
       "               -0.5371602205824756,\n",
       "               -0.5371602205824756,\n",
       "               -0.5371602205824756,\n",
       "               -0.5371602205824756,\n",
       "               -0.5371602205824756,\n",
       "               -0.5371602205824756,\n",
       "               -0.5371602205824756,\n",
       "               -0.5371602205824756,\n",
       "               -0.5371602205824756,\n",
       "               -0.5371602205824756,\n",
       "               -0.5371602205824756,\n",
       "               -0.5371602205824756,\n",
       "               -0.5371602205824756,\n",
       "               -0.5371602205824756]},\n",
       "             '3-x-x-4-x-5-x-8-x': {(3, 3): []},\n",
       "             'x-x-x-x-x-x-x-x-x': {(0, 1): [-1.0036170600732994,\n",
       "               -1.0250549396547246,\n",
       "               -1.0498171186739929,\n",
       "               -1.077150445870858,\n",
       "               -1.1018789314972637,\n",
       "               -1.1287206501857125,\n",
       "               -1.1549540572293937,\n",
       "               -1.1791311027143478,\n",
       "               -1.2062721496280873,\n",
       "               -1.2277064841896606,\n",
       "               -1.252982368808647,\n",
       "               -1.273213213542923,\n",
       "               -1.2973587183254567,\n",
       "               -1.3154561611514575,\n",
       "               -1.3354582163041968,\n",
       "               -1.3510784920706809,\n",
       "               -1.3542981163062184,\n",
       "               -1.3593497962758483,\n",
       "               -1.3547107324640872,\n",
       "               -1.353361663550528,\n",
       "               -1.3608580282751104,\n",
       "               -1.3591876986096527,\n",
       "               -1.3629458657421512,\n",
       "               -1.3664971364299108,\n",
       "               -1.356858516343252,\n",
       "               -1.36414724743166,\n",
       "               -1.3591500682488968,\n",
       "               -1.3636219112954029,\n",
       "               -1.3608172496740083,\n",
       "               -1.3644054980954767,\n",
       "               -1.353970022647233,\n",
       "               -1.3623668429030968,\n",
       "               -1.339555459064803,\n",
       "               -1.349997290018378,\n",
       "               -1.3602710838035872,\n",
       "               -1.3659775413406727,\n",
       "               -1.3662342554538978,\n",
       "               -1.3647031665470515,\n",
       "               -1.3606086882081212,\n",
       "               -1.36799594235478,\n",
       "               -1.3683573965235152,\n",
       "               -1.3717419596332878,\n",
       "               -1.3694834944438212,\n",
       "               -1.3615066448764557,\n",
       "               -1.3737979607543533,\n",
       "               -1.3735943029271516,\n",
       "               -1.371413156937734,\n",
       "               -1.3704743930710768,\n",
       "               -1.365349691074467,\n",
       "               -1.35498844475846]},\n",
       "             '7-x-x-x-x-x-x-8-x': {(1, 1): [-0.028809109,\n",
       "               -0.057654449653591,\n",
       "               -0.19923538947249528,\n",
       "               -0.19923538947249528,\n",
       "               -0.20724303557777032,\n",
       "               -0.20724303557777032,\n",
       "               -0.2151706052219926,\n",
       "               -0.2151706052219926,\n",
       "               -0.23078871017807495,\n",
       "               -0.24609601484553126,\n",
       "               -0.2758028399375181,\n",
       "               -0.2902143634227615,\n",
       "               -0.3181827495485946,\n",
       "               -0.32500092205310865,\n",
       "               -0.3450490696672093,\n",
       "               -0.35808259318083185,\n",
       "               -0.36450176724902356,\n",
       "               -0.3708567495765333,\n",
       "               -0.3708567495765333,\n",
       "               -0.3708567495765333,\n",
       "               -0.3708567495765333,\n",
       "               -0.3708567495765333,\n",
       "               -0.3708567495765333,\n",
       "               -0.37714818208076795,\n",
       "               -0.37714818208076795,\n",
       "               -0.37714818208076795,\n",
       "               -0.37714818208076795,\n",
       "               -0.37714818208076795,\n",
       "               -0.37714818208076795,\n",
       "               -0.37714818208076795,\n",
       "               -0.37714818208076795,\n",
       "               -0.37714818208076795,\n",
       "               -0.37714818208076795,\n",
       "               -0.37714818208076795,\n",
       "               -0.37714818208076795,\n",
       "               -0.37714818208076795,\n",
       "               -0.37714818208076795,\n",
       "               -0.37714818208076795,\n",
       "               -0.37714818208076795,\n",
       "               -0.37714818208076795,\n",
       "               -0.37714818208076795,\n",
       "               -0.37714818208076795,\n",
       "               -0.37714818208076795,\n",
       "               -0.37714818208076795,\n",
       "               -0.37714818208076795,\n",
       "               -0.37714818208076795,\n",
       "               -0.37714818208076795,\n",
       "               -0.37714818208076795,\n",
       "               -0.37714818208076795,\n",
       "               -0.37714818208076795]},\n",
       "             'x-2-x-x-x-x-x-x-9': {(0, 5): [-0.1267309,\n",
       "               -0.135463591,\n",
       "               -0.17783447726472318,\n",
       "               -0.27605613249207595,\n",
       "               -0.2832955711671552,\n",
       "               -0.29046261545548363,\n",
       "               -0.29046261545548363,\n",
       "               -0.2975579893009288,\n",
       "               -0.3115365853138403,\n",
       "               -0.3184212194607019,\n",
       "               -0.3377547908214996,\n",
       "               -0.3491406794841518,\n",
       "               -0.3556492726893103,\n",
       "               -0.368471852162793,\n",
       "               -0.4647871336411651,\n",
       "               -0.4647871336411651,\n",
       "               -0.4647871336411651,\n",
       "               -0.4647871336411651,\n",
       "               -0.4647871336411651,\n",
       "               -0.4647871336411651,\n",
       "               -0.4647871336411651,\n",
       "               -0.4647871336411651,\n",
       "               -0.4647871336411651,\n",
       "               -0.4647871336411651,\n",
       "               -0.4647871336411651,\n",
       "               -0.4647871336411651,\n",
       "               -0.4647871336411651,\n",
       "               -0.4647871336411651,\n",
       "               -0.4647871336411651,\n",
       "               -0.4647871336411651,\n",
       "               -0.4647871336411651,\n",
       "               -0.4647871336411651,\n",
       "               -0.4647871336411651,\n",
       "               -0.4647871336411651,\n",
       "               -0.4647871336411651,\n",
       "               -0.4647871336411651,\n",
       "               -0.4647871336411651,\n",
       "               -0.4647871336411651,\n",
       "               -0.4647871336411651,\n",
       "               -0.4647871336411651,\n",
       "               -0.4647871336411651,\n",
       "               -0.4647871336411651,\n",
       "               -0.4647871336411651,\n",
       "               -0.4647871336411651,\n",
       "               -0.4647871336411651,\n",
       "               -0.4647871336411651,\n",
       "               -0.4647871336411651,\n",
       "               -0.4647871336411651,\n",
       "               -0.4647871336411651,\n",
       "               -0.4647871336411651]}})"
      ]
     },
     "execution_count": 16,
     "metadata": {},
     "output_type": "execute_result"
    }
   ],
   "source": [
    "States_track"
   ]
  },
  {
   "cell_type": "markdown",
   "metadata": {
    "colab_type": "text",
    "id": "t6eMFbb8Ggg2"
   },
   "source": [
    "#### Check the Q-dictionary"
   ]
  },
  {
   "cell_type": "code",
   "execution_count": 17,
   "metadata": {
    "colab": {},
    "colab_type": "code",
    "id": "fr9d2fcVGgg4"
   },
   "outputs": [],
   "source": [
    "# notebook crashes if we try to print Q_dict, so keeping it commented\n",
    "# Q_dict"
   ]
  },
  {
   "cell_type": "code",
   "execution_count": 18,
   "metadata": {},
   "outputs": [],
   "source": [
    "#Q_dict.values()"
   ]
  },
  {
   "cell_type": "code",
   "execution_count": 19,
   "metadata": {
    "colab": {},
    "colab_type": "code",
    "id": "F1tnDJWkGgg9"
   },
   "outputs": [
    {
     "data": {
      "text/plain": [
       "2261347"
      ]
     },
     "execution_count": 19,
     "metadata": {},
     "output_type": "execute_result"
    }
   ],
   "source": [
    "len(Q_dict)"
   ]
  },
  {
   "cell_type": "code",
   "execution_count": 20,
   "metadata": {
    "colab": {},
    "colab_type": "code",
    "id": "cFgUqfcQGghB",
    "scrolled": true
   },
   "outputs": [
    {
     "data": {
      "text/plain": [
       "{(1, 3): -0.4814884995508241,\n",
       " (1, 5): -0.4808457579193582,\n",
       " (1, 7): -0.48402689788685155,\n",
       " (1, 9): -0.44864521337870505,\n",
       " (3, 3): -0.5478605242339336,\n",
       " (3, 5): -0.484361653673427,\n",
       " (3, 7): -0.5959331148547093,\n",
       " (3, 9): -0.5210204108934746,\n",
       " (4, 3): -0.5092156076126377,\n",
       " (4, 5): -0.5447354774942881,\n",
       " (4, 7): -0.6269384891902557,\n",
       " (4, 9): -0.48291541078142614,\n",
       " (5, 3): -0.5933511141337188,\n",
       " (5, 5): -0.5371602205824756,\n",
       " (5, 7): -0.5079335858818902,\n",
       " (5, 9): -0.5384885207148934,\n",
       " (6, 3): -0.5634772535005165,\n",
       " (6, 5): -0.578338161283605,\n",
       " (6, 7): -0.5208410959035771,\n",
       " (6, 9): -0.48019091646503714,\n",
       " (7, 3): -0.5369371563420029,\n",
       " (7, 5): -0.48387799813072746,\n",
       " (7, 7): -0.4827433660212169,\n",
       " (7, 9): -0.5749342949196095,\n",
       " (8, 3): -0.5383586826307738,\n",
       " (8, 5): -0.630065366892856,\n",
       " (8, 7): -0.5470392262818461,\n",
       " (8, 9): -0.5118870294627034}"
      ]
     },
     "execution_count": 20,
     "metadata": {},
     "output_type": "execute_result"
    }
   ],
   "source": [
    "# try checking for one of the states - that which action your agent thinks is the best  -----This will not be evaluated\n",
    "Q_dict['6-x-1-x-x-x-x-x-x']\n"
   ]
  },
  {
   "cell_type": "code",
   "execution_count": 32,
   "metadata": {},
   "outputs": [
    {
     "data": {
      "text/plain": [
       "{(1, 1): -0.01,\n",
       " (1, 3): -0.0199,\n",
       " (1, 5): -0.1,\n",
       " (2, 1): -0.00909,\n",
       " (2, 3): -0.01,\n",
       " (2, 5): -0.1099,\n",
       " (3, 1): 0,\n",
       " (3, 3): -0.01,\n",
       " (3, 5): -0.01,\n",
       " (4, 1): 0,\n",
       " (4, 3): 0,\n",
       " (4, 5): 0,\n",
       " (5, 1): 0,\n",
       " (5, 3): 0,\n",
       " (5, 5): 0}"
      ]
     },
     "execution_count": 32,
     "metadata": {},
     "output_type": "execute_result"
    }
   ],
   "source": [
    "Q_dict['6-x-x-x-x-x-7-8-9']"
   ]
  },
  {
   "cell_type": "markdown",
   "metadata": {
    "colab_type": "text",
    "id": "KGPZEQDFGghG"
   },
   "source": [
    "#### Check the states tracked for Q-values convergence\n",
    "(non-evaluative)"
   ]
  },
  {
   "cell_type": "code",
   "execution_count": 21,
   "metadata": {
    "colab": {},
    "colab_type": "code",
    "id": "9s1Tvz8HGghH"
   },
   "outputs": [
    {
     "data": {
      "text/plain": [
       "<function matplotlib.pyplot.show(*args, **kw)>"
      ]
     },
     "execution_count": 21,
     "metadata": {},
     "output_type": "execute_result"
    },
    {
     "data": {
      "image/png": "[encoded data removed]",
      "text/plain": [
       "<Figure size 1152x504 with 5 Axes>"
      ]
     },
     "metadata": {
      "needs_background": "light"
     },
     "output_type": "display_data"
    }
   ],
   "source": [
    "   \n",
    "plt.figure(0, figsize=(16,7))\n",
    "\n",
    "x_axis = np.asarray(range(0, len(States_track['6-x-1-x-x-x-x-x-x'][(5, 5)])))\n",
    "plt.subplot(231)\n",
    "plt.plot(x_axis,np.asarray(States_track['6-x-1-x-x-x-x-x-x'][(5, 5)]))\n",
    "plt.show\n",
    "\n",
    "x_axis = np.asarray(range(0, len(States_track['x-x-x-x-x-x-x-x-x'][(0, 1)])))\n",
    "plt.subplot(232)\n",
    "plt.plot(x_axis,np.asarray(States_track['x-x-x-x-x-x-x-x-x'][(0, 1)]))\n",
    "plt.show\n",
    "\n",
    "x_axis = np.asarray(range(0, len(States_track['8-3-x-2-7-5-6-4-1'][(2, 9)])))\n",
    "plt.subplot(233)\n",
    "plt.plot(x_axis,np.asarray(States_track['8-3-x-2-7-5-6-4-1'][(2, 9)]))\n",
    "plt.show\n",
    "\n",
    "x_axis = np.asarray(range(0, len(States_track['7-x-x-x-x-x-x-8-x'][(1, 1)])))\n",
    "plt.subplot(234)\n",
    "plt.plot(x_axis,np.asarray(States_track['7-x-x-x-x-x-x-8-x'][(1, 1)]))\n",
    "plt.show\n",
    "\n",
    "\n",
    "x_axis = np.asarray(range(0, len(States_track['x-2-x-x-x-x-x-x-9'][(0, 5)])))\n",
    "plt.subplot(235)\n",
    "plt.plot(x_axis,np.asarray(States_track['x-2-x-x-x-x-x-x-9'][(0, 5)]))\n",
    "plt.show"
   ]
  },
  {
   "cell_type": "markdown",
   "metadata": {
    "colab_type": "text",
    "id": "b2Opp8_NITkC"
   },
   "source": [
    "### Epsilon - decay check"
   ]
  },
  {
   "cell_type": "code",
   "execution_count": 22,
   "metadata": {
    "colab": {},
    "colab_type": "code",
    "id": "gQ_D_JsuGghR"
   },
   "outputs": [],
   "source": [
    "time = np.arange(0,5000000)\n",
    "epsilon = []\n",
    "for i in time:\n",
    "    epsilon.append(get_epsilon(i))    "
   ]
  },
  {
   "cell_type": "code",
   "execution_count": 23,
   "metadata": {
    "colab": {
     "base_uri": "https://localhost:8080/",
     "height": 347
    },
    "colab_type": "code",
    "id": "J7c2xADQGghV",
    "outputId": "cb60fce3-570b-45fb-bd83-abde3d13b273"
   },
   "outputs": [
    {
     "data": {
      "image/png": "[encoded data removed]",
      "text/plain": [
       "<Figure size 432x288 with 1 Axes>"
      ]
     },
     "metadata": {
      "needs_background": "light"
     },
     "output_type": "display_data"
    }
   ],
   "source": [
    "plt.plot(time, epsilon)\n",
    "plt.show()"
   ]
  },
  {
   "cell_type": "code",
   "execution_count": null,
   "metadata": {},
   "outputs": [],
   "source": []
  }
 ],
 "metadata": {
  "colab": {
   "collapsed_sections": [],
   "name": "TicTacToe_Agent.ipynb",
   "provenance": [],
   "version": "0.3.2"
  },
  "kernelspec": {
   "display_name": "Python 3",
   "language": "python",
   "name": "python3"
  },
  "language_info": {
   "codemirror_mode": {
    "name": "ipython",
    "version": 3
   },
   "file_extension": ".py",
   "mimetype": "text/x-python",
   "name": "python",
   "nbconvert_exporter": "python",
   "pygments_lexer": "ipython3",
   "version": "3.7.4"
  }
 },
 "nbformat": 4,
 "nbformat_minor": 1
}
